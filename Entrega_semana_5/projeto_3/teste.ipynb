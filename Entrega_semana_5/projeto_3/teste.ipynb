{
 "cells": [
  {
   "cell_type": "code",
   "execution_count": 2,
   "id": "c1281e5a",
   "metadata": {},
   "outputs": [],
   "source": [
    "import pandas as pd\n",
    "import seaborn as sns\n",
    "import matplotlib.pyplot as plt\n",
    "import numpy as np\n",
    "import os"
   ]
  },
  {
   "cell_type": "code",
   "execution_count": 3,
   "id": "25d1b1c3",
   "metadata": {},
   "outputs": [
    {
     "data": {
      "text/html": [
       "<div>\n",
       "<style scoped>\n",
       "    .dataframe tbody tr th:only-of-type {\n",
       "        vertical-align: middle;\n",
       "    }\n",
       "\n",
       "    .dataframe tbody tr th {\n",
       "        vertical-align: top;\n",
       "    }\n",
       "\n",
       "    .dataframe thead th {\n",
       "        text-align: right;\n",
       "    }\n",
       "</style>\n",
       "<table border=\"1\" class=\"dataframe\">\n",
       "  <thead>\n",
       "    <tr style=\"text-align: right;\">\n",
       "      <th></th>\n",
       "      <th>id</th>\n",
       "      <th>age</th>\n",
       "      <th>sex</th>\n",
       "      <th>height</th>\n",
       "      <th>weight</th>\n",
       "      <th>ap_hi</th>\n",
       "      <th>ap_lo</th>\n",
       "      <th>cholesterol</th>\n",
       "      <th>gluc</th>\n",
       "      <th>smoke</th>\n",
       "      <th>alco</th>\n",
       "      <th>active</th>\n",
       "      <th>cardio</th>\n",
       "    </tr>\n",
       "  </thead>\n",
       "  <tbody>\n",
       "    <tr>\n",
       "      <th>0</th>\n",
       "      <td>0</td>\n",
       "      <td>18393</td>\n",
       "      <td>2</td>\n",
       "      <td>168</td>\n",
       "      <td>62.0</td>\n",
       "      <td>110</td>\n",
       "      <td>80</td>\n",
       "      <td>1</td>\n",
       "      <td>1</td>\n",
       "      <td>0</td>\n",
       "      <td>0</td>\n",
       "      <td>1</td>\n",
       "      <td>0</td>\n",
       "    </tr>\n",
       "    <tr>\n",
       "      <th>1</th>\n",
       "      <td>1</td>\n",
       "      <td>20228</td>\n",
       "      <td>1</td>\n",
       "      <td>156</td>\n",
       "      <td>85.0</td>\n",
       "      <td>140</td>\n",
       "      <td>90</td>\n",
       "      <td>3</td>\n",
       "      <td>1</td>\n",
       "      <td>0</td>\n",
       "      <td>0</td>\n",
       "      <td>1</td>\n",
       "      <td>1</td>\n",
       "    </tr>\n",
       "    <tr>\n",
       "      <th>2</th>\n",
       "      <td>2</td>\n",
       "      <td>18857</td>\n",
       "      <td>1</td>\n",
       "      <td>165</td>\n",
       "      <td>64.0</td>\n",
       "      <td>130</td>\n",
       "      <td>70</td>\n",
       "      <td>3</td>\n",
       "      <td>1</td>\n",
       "      <td>0</td>\n",
       "      <td>0</td>\n",
       "      <td>0</td>\n",
       "      <td>1</td>\n",
       "    </tr>\n",
       "    <tr>\n",
       "      <th>3</th>\n",
       "      <td>3</td>\n",
       "      <td>17623</td>\n",
       "      <td>2</td>\n",
       "      <td>169</td>\n",
       "      <td>82.0</td>\n",
       "      <td>150</td>\n",
       "      <td>100</td>\n",
       "      <td>1</td>\n",
       "      <td>1</td>\n",
       "      <td>0</td>\n",
       "      <td>0</td>\n",
       "      <td>1</td>\n",
       "      <td>1</td>\n",
       "    </tr>\n",
       "    <tr>\n",
       "      <th>4</th>\n",
       "      <td>4</td>\n",
       "      <td>17474</td>\n",
       "      <td>1</td>\n",
       "      <td>156</td>\n",
       "      <td>56.0</td>\n",
       "      <td>100</td>\n",
       "      <td>60</td>\n",
       "      <td>1</td>\n",
       "      <td>1</td>\n",
       "      <td>0</td>\n",
       "      <td>0</td>\n",
       "      <td>0</td>\n",
       "      <td>0</td>\n",
       "    </tr>\n",
       "  </tbody>\n",
       "</table>\n",
       "</div>"
      ],
      "text/plain": [
       "   id    age  sex  height  weight  ap_hi  ap_lo  cholesterol  gluc  smoke  \\\n",
       "0   0  18393    2     168    62.0    110     80            1     1      0   \n",
       "1   1  20228    1     156    85.0    140     90            3     1      0   \n",
       "2   2  18857    1     165    64.0    130     70            3     1      0   \n",
       "3   3  17623    2     169    82.0    150    100            1     1      0   \n",
       "4   4  17474    1     156    56.0    100     60            1     1      0   \n",
       "\n",
       "   alco  active  cardio  \n",
       "0     0       1       0  \n",
       "1     0       1       1  \n",
       "2     0       0       1  \n",
       "3     0       1       1  \n",
       "4     0       0       0  "
      ]
     },
     "execution_count": 3,
     "metadata": {},
     "output_type": "execute_result"
    }
   ],
   "source": [
    "base_dir = os.getcwd()\n",
    "csv_path = os.path.join(base_dir, \"medical_examination.csv\")\n",
    "df = pd.read_csv(csv_path)\n",
    "df.head()"
   ]
  },
  {
   "cell_type": "code",
   "execution_count": 4,
   "id": "53d01f08",
   "metadata": {},
   "outputs": [
    {
     "name": "stdout",
     "output_type": "stream",
     "text": [
      "0        0\n",
      "1        1\n",
      "2        0\n",
      "3        1\n",
      "4        0\n",
      "        ..\n",
      "69995    1\n",
      "69996    1\n",
      "69997    1\n",
      "69998    1\n",
      "69999    0\n",
      "Name: overweight, Length: 70000, dtype: int64\n"
     ]
    }
   ],
   "source": [
    "df['overweight'] = (df['weight'] / ((df['height'] / 100) ** 2) > 25).astype(int)\n",
    "print(df['overweight'])"
   ]
  },
  {
   "cell_type": "code",
   "execution_count": 5,
   "id": "fcf58b7c",
   "metadata": {},
   "outputs": [
    {
     "name": "stdout",
     "output_type": "stream",
     "text": [
      "0        0\n",
      "1        1\n",
      "2        1\n",
      "3        0\n",
      "4        0\n",
      "        ..\n",
      "69995    0\n",
      "69996    1\n",
      "69997    1\n",
      "69998    0\n",
      "69999    1\n",
      "Name: cholesterol, Length: 70000, dtype: int64\n",
      "0        0\n",
      "1        0\n",
      "2        0\n",
      "3        0\n",
      "4        0\n",
      "        ..\n",
      "69995    0\n",
      "69996    1\n",
      "69997    0\n",
      "69998    1\n",
      "69999    0\n",
      "Name: gluc, Length: 70000, dtype: int64\n"
     ]
    }
   ],
   "source": [
    "df['cholesterol'] = (df['cholesterol'] > 1).astype(int)\n",
    "print(df['cholesterol'])\n",
    "\n",
    "df['gluc'] = (df['gluc'] > 1).astype(int)\n",
    "print(df['gluc'])"
   ]
  },
  {
   "cell_type": "code",
   "execution_count": 6,
   "id": "f1d5a1f8",
   "metadata": {},
   "outputs": [
    {
     "name": "stdout",
     "output_type": "stream",
     "text": [
      "   cardio     variable  value\n",
      "0       0  cholesterol      0\n",
      "1       1  cholesterol      1\n",
      "2       1  cholesterol      1\n",
      "3       1  cholesterol      0\n",
      "4       0  cholesterol      0\n"
     ]
    }
   ],
   "source": [
    "df_cat = pd.melt(\n",
    "    df,\n",
    "    id_vars=['cardio'],\n",
    "    value_vars=['cholesterol', 'gluc', 'smoke', 'alco', 'active', 'overweight']\n",
    ")\n",
    "\n",
    "print(df_cat.head())"
   ]
  },
  {
   "cell_type": "code",
   "execution_count": 7,
   "id": "158019fa",
   "metadata": {},
   "outputs": [
    {
     "name": "stdout",
     "output_type": "stream",
     "text": [
      "    cardio     variable  value  total\n",
      "0        0       active      0   6378\n",
      "1        0       active      1  28643\n",
      "2        0         alco      0  33080\n",
      "3        0         alco      1   1941\n",
      "4        0  cholesterol      0  29330\n",
      "5        0  cholesterol      1   5691\n",
      "6        0         gluc      0  30894\n",
      "7        0         gluc      1   4127\n",
      "8        0   overweight      0  15915\n",
      "9        0   overweight      1  19106\n",
      "10       0        smoke      0  31781\n",
      "11       0        smoke      1   3240\n",
      "12       1       active      0   7361\n",
      "13       1       active      1  27618\n",
      "14       1         alco      0  33156\n",
      "15       1         alco      1   1823\n",
      "16       1  cholesterol      0  23055\n",
      "17       1  cholesterol      1  11924\n",
      "18       1         gluc      0  28585\n",
      "19       1         gluc      1   6394\n",
      "20       1   overweight      0  10539\n",
      "21       1   overweight      1  24440\n",
      "22       1        smoke      0  32050\n",
      "23       1        smoke      1   2929\n"
     ]
    }
   ],
   "source": [
    "df_cat = df_cat.groupby(['cardio', 'variable', 'value']).size().reset_index(name='total')\n",
    "print(df_cat)"
   ]
  },
  {
   "cell_type": "code",
   "execution_count": 9,
   "id": "86b2c5f7",
   "metadata": {},
   "outputs": [
    {
     "data": {
      "image/png": "[encoded data removed]",
      "text/plain": [
       "<Figure size 1058.88x500 with 2 Axes>"
      ]
     },
     "metadata": {},
     "output_type": "display_data"
    },
    {
     "name": "stdout",
     "output_type": "stream",
     "text": [
      "None\n"
     ]
    }
   ],
   "source": [
    "sns.catplot(\n",
    "    x=\"variable\", \n",
    "    y=\"total\", \n",
    "    hue=\"value\", \n",
    "    col=\"cardio\", \n",
    "    kind=\"bar\", \n",
    "    data=df_cat\n",
    ")\n",
    "\n",
    "fig = plt.show()\n",
    "print(fig)"
   ]
  },
  {
   "cell_type": "code",
   "execution_count": null,
   "id": "49e931d7",
   "metadata": {},
   "outputs": [],
   "source": [
    "# 4\n",
    "def draw_cat_plot():\n",
    "    # 5\n",
    "    df_cat = pd.melt(\n",
    "    df,\n",
    "    id_vars=['cardio'],\n",
    "    value_vars=['cholesterol', 'gluc', 'smoke', 'alco', 'active', 'overweight']\n",
    "    )\n",
    "\n",
    "\n",
    "    # 6\n",
    "    df_cat = df_cat.groupby(['cardio', 'variable', 'value']).size().reset_index(name='total')\n",
    "    \n",
    "\n",
    "    # 7\n",
    "    sns.catplot(\n",
    "    x=\"variable\", \n",
    "    y=\"total\", \n",
    "    hue=\"value\", \n",
    "    col=\"cardio\", \n",
    "    kind=\"bar\", \n",
    "    data=df_cat\n",
    "    )\n",
    "    \n",
    "    # 8\n",
    "    fig = plt.show()\n",
    "\n",
    "\n",
    "    # 9\n",
    "    fig.savefig('catplot.png')\n",
    "    return fig"
   ]
  },
  {
   "cell_type": "code",
   "execution_count": null,
   "id": "deb7c116",
   "metadata": {},
   "outputs": [
    {
     "name": "stdout",
     "output_type": "stream",
     "text": [
      "          id    age  sex  height  weight  ap_hi  ap_lo  cholesterol  gluc  \\\n",
      "0          0  18393    2     168    62.0    110     80            0     0   \n",
      "1          1  20228    1     156    85.0    140     90            1     0   \n",
      "2          2  18857    1     165    64.0    130     70            1     0   \n",
      "3          3  17623    2     169    82.0    150    100            0     0   \n",
      "4          4  17474    1     156    56.0    100     60            0     0   \n",
      "...      ...    ...  ...     ...     ...    ...    ...          ...   ...   \n",
      "69993  99991  19699    1     172    70.0    130     90            0     0   \n",
      "69994  99992  21074    1     165    80.0    150     80            0     0   \n",
      "69995  99993  19240    2     168    76.0    120     80            0     0   \n",
      "69998  99998  22431    1     163    72.0    135     80            0     1   \n",
      "69999  99999  20540    1     170    72.0    120     80            1     0   \n",
      "\n",
      "       smoke  alco  active  cardio  overweight  \n",
      "0          0     0       1       0           0  \n",
      "1          0     0       1       1           1  \n",
      "2          0     0       0       1           0  \n",
      "3          0     0       1       1           1  \n",
      "4          0     0       0       0           0  \n",
      "...      ...   ...     ...     ...         ...  \n",
      "69993      0     0       1       1           0  \n",
      "69994      0     0       1       1           1  \n",
      "69995      1     0       1       0           1  \n",
      "69998      0     0       0       1           1  \n",
      "69999      0     0       1       0           0  \n",
      "\n",
      "[63259 rows x 14 columns]\n"
     ]
    }
   ],
   "source": [
    "df_heat = df[\n",
    "(df['ap_lo'] <= df['ap_hi']) &\n",
    "(df['height'] >= df['height'].quantile(0.025)) &\n",
    "(df['height'] <= df['height'].quantile(0.975)) &\n",
    "(df['weight'] >= df['weight'].quantile(0.025)) &\n",
    "(df['weight'] <= df['weight'].quantile(0.975))\n",
    "]\n",
    "\n",
    "print(df_heat)"
   ]
  },
  {
   "cell_type": "code",
   "execution_count": 11,
   "id": "c32bb4e8",
   "metadata": {},
   "outputs": [
    {
     "name": "stdout",
     "output_type": "stream",
     "text": [
      "                   id       age       sex    height    weight     ap_hi  \\\n",
      "id           1.000000  0.002507  0.003426  0.000326  0.000149  0.003492   \n",
      "age          0.002507  1.000000 -0.018132 -0.076932  0.070168  0.018689   \n",
      "sex          0.003426 -0.018132  1.000000  0.505785  0.129979  0.005063   \n",
      "height       0.000326 -0.076932  0.505785  1.000000  0.251503  0.004586   \n",
      "weight       0.000149  0.070168  0.129979  0.251503  1.000000  0.027030   \n",
      "ap_hi        0.003492  0.018689  0.005063  0.004586  0.027030  1.000000   \n",
      "ap_lo        0.000484  0.153508  0.059947  0.017922  0.227922  0.072803   \n",
      "cholesterol  0.003719  0.129996 -0.037605 -0.063522  0.135981  0.022807   \n",
      "gluc         0.002289  0.086990 -0.021357 -0.030469  0.107072  0.011111   \n",
      "smoke       -0.002732 -0.044371  0.337436  0.187830  0.056533 -0.001928   \n",
      "alco        -0.000708 -0.026970  0.168637  0.089785  0.059917  0.000769   \n",
      "active       0.005891 -0.011445  0.007864 -0.005661 -0.014430 -0.000222   \n",
      "cardio       0.003900  0.240241  0.002320 -0.024102  0.170042  0.050556   \n",
      "overweight  -0.000679  0.089573 -0.052930 -0.149570  0.655926  0.017327   \n",
      "\n",
      "                ap_lo  cholesterol      gluc     smoke      alco    active  \\\n",
      "id           0.000484     0.003719  0.002289 -0.002732 -0.000708  0.005891   \n",
      "age          0.153508     0.129996  0.086990 -0.044371 -0.026970 -0.011445   \n",
      "sex          0.059947    -0.037605 -0.021357  0.337436  0.168637  0.007864   \n",
      "height       0.017922    -0.063522 -0.030469  0.187830  0.089785 -0.005661   \n",
      "weight       0.227922     0.135981  0.107072  0.056533  0.059917 -0.014430   \n",
      "ap_hi        0.072803     0.022807  0.011111 -0.001928  0.000769 -0.000222   \n",
      "ap_lo        1.000000     0.150362  0.074840  0.023275  0.033042  0.001569   \n",
      "cholesterol  0.150362     1.000000  0.383743  0.012680  0.038446  0.002494   \n",
      "gluc         0.074840     0.383743  1.000000 -0.004157  0.014297 -0.010145   \n",
      "smoke        0.023275     0.012680 -0.004157  1.000000  0.341200  0.026940   \n",
      "alco         0.033042     0.038446  0.014297  0.341200  1.000000  0.025847   \n",
      "active       0.001569     0.002494 -0.010145  0.026940  0.025847  1.000000   \n",
      "cardio       0.327181     0.203467  0.088445 -0.020345 -0.011088 -0.037339   \n",
      "overweight   0.172212     0.127986  0.088109 -0.003274  0.025056 -0.003387   \n",
      "\n",
      "               cardio  overweight  \n",
      "id           0.003900   -0.000679  \n",
      "age          0.240241    0.089573  \n",
      "sex          0.002320   -0.052930  \n",
      "height      -0.024102   -0.149570  \n",
      "weight       0.170042    0.655926  \n",
      "ap_hi        0.050556    0.017327  \n",
      "ap_lo        0.327181    0.172212  \n",
      "cholesterol  0.203467    0.127986  \n",
      "gluc         0.088445    0.088109  \n",
      "smoke       -0.020345   -0.003274  \n",
      "alco        -0.011088    0.025056  \n",
      "active      -0.037339   -0.003387  \n",
      "cardio       1.000000    0.143168  \n",
      "overweight   0.143168    1.000000  \n"
     ]
    }
   ],
   "source": [
    "corr = df_heat.corr(numeric_only=True)\n",
    "print(corr)"
   ]
  },
  {
   "cell_type": "code",
   "execution_count": 12,
   "id": "0458c9f5",
   "metadata": {},
   "outputs": [],
   "source": [
    "mask = np.triu(np.ones_like(corr, dtype=bool))"
   ]
  },
  {
   "cell_type": "code",
   "execution_count": 13,
   "id": "19ee5d5b",
   "metadata": {},
   "outputs": [
    {
     "data": {
      "image/png": "[encoded data removed]",
      "text/plain": [
       "<Figure size 1200x1000 with 1 Axes>"
      ]
     },
     "metadata": {},
     "output_type": "display_data"
    }
   ],
   "source": [
    "fig, ax = plt.subplots(figsize=(12, 10))"
   ]
  },
  {
   "cell_type": "code",
   "execution_count": null,
   "id": "ce6ba421",
   "metadata": {},
   "outputs": [],
   "source": [
    "sns.heatmap(\n",
    "    corr,\n",
    "    mask=mask,\n",
    "    annot=True,\n",
    "    fmt=\".1f\",\n",
    "    center=0,\n",
    "    vmin=-0.1, vmax=0.25,\n",
    "    linewidths=0.5,\n",
    "    square=True,\n",
    "    cbar_kws={\"shrink\": 0.5},\n",
    "    ax=ax\n",
    ")"
   ]
  },
  {
   "cell_type": "code",
   "execution_count": null,
   "id": "917c6e5a",
   "metadata": {},
   "outputs": [],
   "source": [
    "# 10\n",
    "def draw_heat_map():\n",
    "    # 11\n",
    "    df_heat = df[\n",
    "    (df['ap_lo'] <= df['ap_hi']) &\n",
    "    (df['height'] >= df['height'].quantile(0.025)) &\n",
    "    (df['height'] <= df['height'].quantile(0.975)) &\n",
    "    (df['weight'] >= df['weight'].quantile(0.025)) &\n",
    "    (df['weight'] <= df['weight'].quantile(0.975))\n",
    "    ]\n",
    "\n",
    "    # 12\n",
    "    corr = df_heat.corr(numeric_only=True)\n",
    "\n",
    "    # 13\n",
    "    mask = np.triu(np.ones_like(corr, dtype=bool))\n",
    "\n",
    "    # 14\n",
    "    fig, ax = plt.subplots(figsize=(12, 10))\n",
    "\n",
    "    # 15\n",
    "    sns.heatmap(\n",
    "    corr,\n",
    "    mask=mask,\n",
    "    annot=True,\n",
    "    fmt=\".1f\",\n",
    "    center=0,\n",
    "    vmin=-0.1, vmax=0.25,\n",
    "    linewidths=0.5,\n",
    "    square=True,\n",
    "    cbar_kws={\"shrink\": 0.5},\n",
    "    ax=ax\n",
    "    )\n",
    "\n",
    "\n",
    "    # 16\n",
    "    fig.savefig('heatmap.png')\n",
    "    return fig"
   ]
  }
 ],
 "metadata": {
  "kernelspec": {
   "display_name": "Python 3",
   "language": "python",
   "name": "python3"
  },
  "language_info": {
   "codemirror_mode": {
    "name": "ipython",
    "version": 3
   },
   "file_extension": ".py",
   "mimetype": "text/x-python",
   "name": "python",
   "nbconvert_exporter": "python",
   "pygments_lexer": "ipython3",
   "version": "3.13.5"
  }
 },
 "nbformat": 4,
 "nbformat_minor": 5
}
